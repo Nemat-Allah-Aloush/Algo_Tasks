{
 "cells": [
  {
   "cell_type": "code",
   "execution_count": 1,
   "metadata": {},
   "outputs": [],
   "source": [
    "import random\n",
    "import numpy\n",
    "import math\n",
    "import matplotlib.pyplot as plt"
   ]
  },
  {
   "cell_type": "markdown",
   "metadata": {},
   "source": [
    "## 1. One dimensional methods"
   ]
  },
  {
   "cell_type": "markdown",
   "metadata": {},
   "source": [
    "### Defining the methods"
   ]
  },
  {
   "cell_type": "markdown",
   "metadata": {},
   "source": [
    "#### Exhaustive Search"
   ]
  },
  {
   "cell_type": "code",
   "execution_count": 20,
   "metadata": {},
   "outputs": [],
   "source": [
    "def min_exhaustive_search(fun,a,b,error):\n",
    "    n=round((b-a)/error)\n",
    "    min_fun=100000\n",
    "    min_x=0\n",
    "    for k in range (n+1):\n",
    "        x= a + k * (b-a)/n\n",
    "        if (fun(x) < min_fun):\n",
    "            min_x=x\n",
    "            min_fun=fun(x)\n",
    "    return min_x, min_fun\n",
    "# num of f calculations = number of iteratioins = n"
   ]
  },
  {
   "cell_type": "markdown",
   "metadata": {},
   "source": [
    "#### Dichotomy"
   ]
  },
  {
   "cell_type": "code",
   "execution_count": 26,
   "metadata": {},
   "outputs": [],
   "source": [
    "# delta = random.uniform(0, error)\n",
    "def min_dichotomy (fun,a,b,error,delta,num_iter,num_fun):\n",
    "    num_iter+=1     #calculate the number of iterations\n",
    "    if ((a-b)<error):\n",
    "        return a,b\n",
    "    else:\n",
    "        x1= ((a+b-delta)/2)\n",
    "        x2=((a+b+delta)/2)\n",
    "        num_fun+=1           #calculate the number of function calculations\n",
    "        if(fun(x1)<fun(x2)):\n",
    "            b=x2\n",
    "        else:\n",
    "            a=x1\n",
    "        min_dichotomy (fun,a,b,error,delta,num_iter,num_fun)\n"
   ]
  },
  {
   "cell_type": "markdown",
   "metadata": {},
   "source": [
    "#### Golden section search"
   ]
  },
  {
   "cell_type": "code",
   "execution_count": 50,
   "metadata": {},
   "outputs": [],
   "source": [
    "def min_golden (fun,a,b,error,x1,x2,fun_value,label,num_iter,num_fun):\n",
    "    print('beg')\n",
    "    num_iter+=1\n",
    "    if ((b-a)<error):\n",
    "        return a,b,num_iter,num_fun\n",
    "    else:\n",
    "        print(\"2\")\n",
    "        if (label=='both'):\n",
    "            x1= (a+((3-math.sqrt(5))/2)*(b-a))\n",
    "            x2=(b+((math.sqrt(5)-3)/2)*(b-a))\n",
    "            fun_x1=fun(x1)\n",
    "            fun_x2=fun(x2)\n",
    "            num_fun+=2\n",
    "        elif (label=='right'):\n",
    "            print('r1')\n",
    "            x2=(b+((math.sqrt(5)-3)/2)*(b-a))\n",
    "            print('r2')\n",
    "            fun_x1=fun_value\n",
    "            print('r3')\n",
    "            fun_x2=fun(x2)\n",
    "            print('r4')\n",
    "            num_fun+=1\n",
    "            print('r5')\n",
    "        elif (label=='left'):    \n",
    "            x1= (a+((3-math.sqrt(5))/2)*(b-a))\n",
    "            fun_x1=fun(x1)\n",
    "            fun_x2=fun_value\n",
    "            num_fun+=1\n",
    "            print('l')\n",
    "        if(fun_x1<fun_x2):\n",
    "            b=x1\n",
    "            x2=x1\n",
    "            print('l0')\n",
    "            min_golden (fun,a,b,error,x1,x2,fun_x1,'left',num_iter,num_fun)\n",
    "        else:\n",
    "            a=x1\n",
    "            x1=x2\n",
    "            print('r0')\n",
    "            min_golden (fun,a,b,error,x1,x2,fun_x2,'right',num_iter,num_fun)\n",
    "# to call this function min_golden(fun,a,b,error,0,0,0,'both',0,0)\n"
   ]
  },
  {
   "cell_type": "code",
   "execution_count": 56,
   "metadata": {},
   "outputs": [
    {
     "name": "stdout",
     "output_type": "stream",
     "text": [
      "beg\n",
      "2\n",
      "l0\n",
      "beg\n",
      "2\n",
      "l\n",
      "l0\n",
      "beg\n",
      "2\n",
      "l\n",
      "l0\n",
      "beg\n"
     ]
    },
    {
     "ename": "TypeError",
     "evalue": "cannot unpack non-iterable NoneType object",
     "output_type": "error",
     "traceback": [
      "\u001b[1;31m---------------------------------------------------------------------------\u001b[0m",
      "\u001b[1;31mTypeError\u001b[0m                                 Traceback (most recent call last)",
      "\u001b[1;32m~\\AppData\\Local\\Temp/ipykernel_15160/710415211.py\u001b[0m in \u001b[0;36m<module>\u001b[1;34m\u001b[0m\n\u001b[0;32m      1\u001b[0m \u001b[0mnum_iter\u001b[0m\u001b[1;33m,\u001b[0m\u001b[0mnum_fun\u001b[0m\u001b[1;33m=\u001b[0m\u001b[1;36m0\u001b[0m\u001b[1;33m,\u001b[0m\u001b[1;36m0\u001b[0m\u001b[1;33m\u001b[0m\u001b[1;33m\u001b[0m\u001b[0m\n\u001b[1;32m----> 2\u001b[1;33m \u001b[0ma\u001b[0m\u001b[1;33m,\u001b[0m\u001b[0mb\u001b[0m\u001b[1;33m,\u001b[0m\u001b[0mnum_iter\u001b[0m\u001b[1;33m,\u001b[0m\u001b[0mnum_fun\u001b[0m\u001b[1;33m=\u001b[0m\u001b[0mmin_golden\u001b[0m\u001b[1;33m(\u001b[0m\u001b[0mcube_power\u001b[0m\u001b[1;33m,\u001b[0m\u001b[1;36m0\u001b[0m\u001b[1;33m,\u001b[0m\u001b[1;36m1\u001b[0m\u001b[1;33m,\u001b[0m\u001b[1;36m0.1\u001b[0m\u001b[1;33m,\u001b[0m\u001b[1;36m0\u001b[0m\u001b[1;33m,\u001b[0m\u001b[1;36m0\u001b[0m\u001b[1;33m,\u001b[0m\u001b[1;36m0\u001b[0m\u001b[1;33m,\u001b[0m\u001b[1;34m'both'\u001b[0m\u001b[1;33m,\u001b[0m\u001b[0mnum_iter\u001b[0m\u001b[1;33m,\u001b[0m\u001b[0mnum_fun\u001b[0m\u001b[1;33m)\u001b[0m\u001b[1;33m\u001b[0m\u001b[1;33m\u001b[0m\u001b[0m\n\u001b[0m\u001b[0;32m      3\u001b[0m \u001b[0mprint\u001b[0m\u001b[1;33m(\u001b[0m\u001b[0ma\u001b[0m\u001b[1;33m,\u001b[0m\u001b[0mb\u001b[0m\u001b[1;33m,\u001b[0m\u001b[0mnum_iter\u001b[0m\u001b[1;33m,\u001b[0m\u001b[0mnum_fun\u001b[0m\u001b[1;33m)\u001b[0m\u001b[1;33m\u001b[0m\u001b[1;33m\u001b[0m\u001b[0m\n",
      "\u001b[1;31mTypeError\u001b[0m: cannot unpack non-iterable NoneType object"
     ]
    }
   ],
   "source": [
    "num_iter,num_fun=0,0\n",
    "a,b,num_iter,num_fun=min_golden(cube_power,0,1,0.1,0,0,0,'both',num_iter,num_fun)\n",
    "print(a,b,num_iter,num_fun)\n"
   ]
  },
  {
   "cell_type": "markdown",
   "metadata": {},
   "source": [
    "### Defining the functions"
   ]
  },
  {
   "cell_type": "code",
   "execution_count": 23,
   "metadata": {},
   "outputs": [],
   "source": [
    "def cube_power(x):\n",
    "    return pow(x,3)"
   ]
  },
  {
   "cell_type": "code",
   "execution_count": null,
   "metadata": {},
   "outputs": [
    {
     "name": "stdout",
     "output_type": "stream",
     "text": [
      "0.0 0.0\n"
     ]
    }
   ],
   "source": [
    "x,f=min_exhaustive_search(cube_power,0,1,0.001)\n",
    "print(x,f)"
   ]
  },
  {
   "cell_type": "code",
   "execution_count": null,
   "metadata": {},
   "outputs": [],
   "source": []
  }
 ],
 "metadata": {
  "interpreter": {
   "hash": "57baa5815c940fdaff4d14510622de9616cae602444507ba5d0b6727c008cbd6"
  },
  "kernelspec": {
   "display_name": "Python 3.7.8 64-bit",
   "language": "python",
   "name": "python3"
  },
  "language_info": {
   "codemirror_mode": {
    "name": "ipython",
    "version": 3
   },
   "file_extension": ".py",
   "mimetype": "text/x-python",
   "name": "python",
   "nbconvert_exporter": "python",
   "pygments_lexer": "ipython3",
   "version": "3.7.8"
  },
  "orig_nbformat": 4
 },
 "nbformat": 4,
 "nbformat_minor": 2
}
