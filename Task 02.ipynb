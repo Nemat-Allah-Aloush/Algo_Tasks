{
 "cells": [
  {
   "cell_type": "code",
   "execution_count": 54,
   "metadata": {},
   "outputs": [],
   "source": [
    "import random\n",
    "import numpy\n",
    "import matplotlib.pyplot as plt\n",
    "from tabulate import tabulate"
   ]
  },
  {
   "cell_type": "markdown",
   "metadata": {},
   "source": [
    "## 1. One dimensional methods"
   ]
  },
  {
   "cell_type": "markdown",
   "metadata": {},
   "source": [
    "### Defining the methods"
   ]
  },
  {
   "cell_type": "markdown",
   "metadata": {},
   "source": [
    "#### Exhaustive Search"
   ]
  },
  {
   "cell_type": "code",
   "execution_count": null,
   "metadata": {},
   "outputs": [],
   "source": [
    "def min_exhaustive_search(fun,a,b,error):\n",
    "    n=round((b-a)/error)\n",
    "    min_fun=100000\n",
    "    min_x=0\n",
    "    for k in range (n+1):\n",
    "        x= a + k * (b-a)/n\n",
    "        if (fun(x) < min_fun): #searching for the minimum value of function\n",
    "            min_x=x\n",
    "            min_fun=fun(x)\n",
    "    return min_x, abs(min_x-error),min_x +error, min_fun ,n\n",
    "    '''returning :\n",
    "    -value of x that yeilds min value of function \n",
    "    -minimum possible value of x that yeilds min value of function according to the accepted error \n",
    "    -maximum possible value of x that yeilds min value of function according to the accepted error \n",
    "    - the minimum found value of th fuction\n",
    "    - num of iteration = num of function calculations'''\n",
    "# num of f calculations = number of iteratioins = n"
   ]
  },
  {
   "cell_type": "markdown",
   "metadata": {},
   "source": [
    "#### Dichotomy"
   ]
  },
  {
   "cell_type": "code",
   "execution_count": 57,
   "metadata": {},
   "outputs": [],
   "source": [
    "# delta = random.uniform(0, error)\n",
    "def min_dichotomy (fun,a,b,error,delta,num_iter,num_fun):\n",
    "    num_iter+=1     #calculate the number of iterations\n",
    "    if (abs(a-b)<error):\n",
    "        return a,b,num_iter,num_fun\n",
    "    else:\n",
    "        x1= ((a+b-delta)/2)\n",
    "        x2=((a+b+delta)/2)\n",
    "        num_fun+=1           #calculate the number of function calculations\n",
    "        if(fun(x1)<fun(x2)):\n",
    "            b=x2\n",
    "        else:\n",
    "            a=x1\n",
    "        return min_dichotomy (fun,a,b,error,delta,num_fun,num_iter)\n",
    "\n",
    "# to call this function min_dichotomy(fun,a,b,error,delta,0,0)"
   ]
  },
  {
   "cell_type": "markdown",
   "metadata": {},
   "source": [
    "#### Golden section search"
   ]
  },
  {
   "cell_type": "code",
   "execution_count": 65,
   "metadata": {},
   "outputs": [],
   "source": [
    "def min_golden (fun,a,b,error,x1,x2,fun_value,label,num_iter,num_fun):\n",
    "    num_iter+=1                         #saving the number of total iteration of the function min_golden\n",
    "    if (abs(b-a)<error):\n",
    "        result=[a,b,num_fun,num_iter]\n",
    "        return result\n",
    "    else:\n",
    "        if (label=='both'):   # this case will be true when first call the function, then in next stages will be either of the two following (elif)\n",
    "            x1= (a+((3-math.sqrt(5))/2)*(b-a))\n",
    "            x2=(b+((math.sqrt(5)-3)/2)*(b-a))\n",
    "            fun_x1=fun(x1)\n",
    "            fun_x2=fun(x2)\n",
    "            num_fun+=2                  #saving the number of calculating of the function\n",
    "        elif (label=='right'):  # this case will be true when we are moving our calculations to the right\n",
    "            x2=(b+((math.sqrt(5)-3)/2)*(b-a))\n",
    "            fun_x1=fun_value\n",
    "            fun_x2=fun(x2)\n",
    "            num_fun+=1                  #saving the number of calculating of the function\n",
    "        elif (label=='left'):    # this case will be true when we are moving our calculations to the left\n",
    "            x1= (a+((3-math.sqrt(5))/2)*(b-a))\n",
    "            fun_x1=fun(x1)\n",
    "            fun_x2=fun_value\n",
    "            num_fun+=1                  #saving the number of calculating of the function\n",
    "        #After calculating x1,x2,fun_x1,fun_x2 in previous lines, \n",
    "        # next according to the condition we will decide to recall the function to the right or left range.\n",
    "        if(fun_x1<fun_x2):\n",
    "            b=x1\n",
    "            x2=x1\n",
    "            return min_golden (fun,a,b,error,x1,x2,fun_x1,'left',num_iter,num_fun)\n",
    "        else:\n",
    "            a=x1\n",
    "            x1=x2\n",
    "            return min_golden (fun,a,b,error,x1,x2,fun_x2,'right',num_iter,num_fun)\n",
    "# to call this function min_golden(fun,a,b,error,0,0,0,'both',0,0)\n"
   ]
  },
  {
   "cell_type": "markdown",
   "metadata": {},
   "source": [
    "### Defining the functions"
   ]
  },
  {
   "cell_type": "code",
   "execution_count": 59,
   "metadata": {},
   "outputs": [],
   "source": [
    "def cube_power(x):\n",
    "    return pow(x,3)"
   ]
  },
  {
   "cell_type": "code",
   "execution_count": 17,
   "metadata": {},
   "outputs": [],
   "source": [
    "def abs_function(x):\n",
    "    return (abs(x-0.2)) "
   ]
  },
  {
   "cell_type": "code",
   "execution_count": 18,
   "metadata": {},
   "outputs": [],
   "source": [
    "def sin_function(x):\n",
    "    return(x*math.sin(1/x))"
   ]
  },
  {
   "cell_type": "markdown",
   "metadata": {},
   "source": [
    "### Applying the methods for the functions"
   ]
  },
  {
   "cell_type": "code",
   "execution_count": 61,
   "metadata": {},
   "outputs": [
    {
     "name": "stdout",
     "output_type": "stream",
     "text": [
      "╒════════════════╤═══════╤═════════════╤════════════════════════╤════════════════════╕\n",
      "│                │   a   │      b      │  function claculation  │  num of iteration  │\n",
      "╞════════════════╪═══════╪═════════════╪════════════════════════╪════════════════════╡\n",
      "│ Exhaustive     │ 0.001 │    0.001    │          1000          │        1000        │\n",
      "├────────────────┼───────┼─────────────┼────────────────────────┼────────────────────┤\n",
      "│ Dichotomy      │   0   │ 0.000866204 │           13           │         12         │\n",
      "├────────────────┼───────┼─────────────┼────────────────────────┼────────────────────┤\n",
      "│ Golden section │   0   │ 0.000453104 │           9            │         9          │\n",
      "╘════════════════╧═══════╧═════════════╧════════════════════════╧════════════════════╛\n"
     ]
    }
   ],
   "source": [
    "#First function\n",
    "min_x, a,b, min_fun ,n =min_exhaustive_search(cube_power,0,1,0.001) # applying first method\n",
    "parameters=[]\n",
    "parameters.append([a,b, n ,n])                                   # saving the result from the first method\n",
    "delta = random.uniform(0, 0.001)                                    #declaring delta to be used in second method\n",
    "parameters.append(min_dichotomy(cube_power,0,1,0.001,delta,0,0))    #applying 2nd method and saving the result\n",
    "parameters.append(min_golden(cube_power,0,1,0.001,0,0,0,'both',0,0)) #applying the third method and saving the results\n",
    "# Printing a table with results\n",
    "rowIDs=['Exhaustive','Dichotomy','Golden section']\n",
    "print(tabulate(parameters, headers=['a','b','function claculation','num of iteration'],  tablefmt='fancy_grid',numalign ='center',showindex=rowIDs))"
   ]
  },
  {
   "cell_type": "code",
   "execution_count": 62,
   "metadata": {},
   "outputs": [
    {
     "name": "stdout",
     "output_type": "stream",
     "text": [
      "╒════════════════╤══════════╤══════════╤════════════════════════╤════════════════════╕\n",
      "│                │    a     │    b     │  function claculation  │  num of iteration  │\n",
      "╞════════════════╪══════════╪══════════╪════════════════════════╪════════════════════╡\n",
      "│ Exhaustive     │  0.199   │  0.201   │          1000          │        1000        │\n",
      "├────────────────┼──────────┼──────────┼────────────────────────┼────────────────────┤\n",
      "│ Dichotomy      │ 0.199651 │ 0.200419 │           12           │         11         │\n",
      "├────────────────┼──────────┼──────────┼────────────────────────┼────────────────────┤\n",
      "│ Golden section │ 0.145165 │ 0.145898 │           24           │         24         │\n",
      "╘════════════════╧══════════╧══════════╧════════════════════════╧════════════════════╛\n"
     ]
    }
   ],
   "source": [
    "#Second function\n",
    "min_x, a,b, min_fun ,n =min_exhaustive_search(abs_function,0,1,0.001) # applying first method\n",
    "parameters_2=[]\n",
    "parameters_2.append([a,b, n ,n])                                   # saving the result from the first method\n",
    "delta = random.uniform(0, 0.001)                                    #declaring delta to be used in second method\n",
    "parameters_2.append(min_dichotomy(abs_function,0,1,0.001,delta,0,0))    #applying 2nd method and saving the result\n",
    "parameters_2.append(min_golden(abs_function,0,1,0.001,0,0,0,'both',0,0)) #applying the third method and saving the results\n",
    "# Printing a table with results\n",
    "rowIDs=['Exhaustive','Dichotomy','Golden section']\n",
    "print(tabulate(parameters_2, headers=['a','b','function claculation','num of iteration'],  tablefmt='fancy_grid',numalign ='center',showindex=rowIDs))"
   ]
  },
  {
   "cell_type": "code",
   "execution_count": 64,
   "metadata": {},
   "outputs": [
    {
     "name": "stdout",
     "output_type": "stream",
     "text": [
      "╒════════════════╤═══════════╤═══════════╤════════════════════════╤════════════════════╕\n",
      "│                │     a     │     b     │  function claculation  │  num of iteration  │\n",
      "╞════════════════╪═══════════╪═══════════╪════════════════════════╪════════════════════╡\n",
      "│ Exhaustive     │   0.222   │   0.224   │          990           │        990         │\n",
      "├────────────────┼───────────┼───────────┼────────────────────────┼────────────────────┤\n",
      "│ Dichotomy      │ 0.222134  │  0.22298  │           12           │         11         │\n",
      "├────────────────┼───────────┼───────────┼────────────────────────┼────────────────────┤\n",
      "│ Golden section │ 0.0173235 │ 0.0180493 │           15           │         15         │\n",
      "╘════════════════╧═══════════╧═══════════╧════════════════════════╧════════════════════╛\n"
     ]
    }
   ],
   "source": [
    "#third function\n",
    "min_x, a,b, min_fun ,n =min_exhaustive_search(sin_function,0.01,1,0.001) # applying first method\n",
    "parameters_3=[]\n",
    "parameters_3.append([a,b, n ,n])                                   # saving the result from the first method\n",
    "delta = random.uniform(0, 0.001)                                    #declaring delta to be used in second method\n",
    "parameters_3.append(min_dichotomy(sin_function,0.01,1,0.001,delta,0,0))    #applying 2nd method and saving the result\n",
    "parameters_3.append(min_golden(sin_function,0.01,1,0.001,0,0,0,'both',0,0)) #applying the third method and saving the results\n",
    "# Printing a table with results\n",
    "rowIDs=['Exhaustive','Dichotomy','Golden section']\n",
    "print(tabulate(parameters_3, headers=['a','b','function claculation','num of iteration'],  tablefmt='fancy_grid',numalign ='center',showindex=rowIDs))"
   ]
  },
  {
   "cell_type": "code",
   "execution_count": null,
   "metadata": {},
   "outputs": [],
   "source": []
  }
 ],
 "metadata": {
  "interpreter": {
   "hash": "57baa5815c940fdaff4d14510622de9616cae602444507ba5d0b6727c008cbd6"
  },
  "kernelspec": {
   "display_name": "Python 3.7.8 64-bit",
   "language": "python",
   "name": "python3"
  },
  "language_info": {
   "codemirror_mode": {
    "name": "ipython",
    "version": 3
   },
   "file_extension": ".py",
   "mimetype": "text/x-python",
   "name": "python",
   "nbconvert_exporter": "python",
   "pygments_lexer": "ipython3",
   "version": "3.7.8"
  },
  "orig_nbformat": 4
 },
 "nbformat": 4,
 "nbformat_minor": 2
}
