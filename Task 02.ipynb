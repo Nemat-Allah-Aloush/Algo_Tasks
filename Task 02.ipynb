{
 "cells": [
  {
   "cell_type": "code",
   "execution_count": 95,
   "metadata": {},
   "outputs": [],
   "source": [
    "import random\n",
    "import numpy\n",
    "import matplotlib.pyplot as plt\n",
    "from tabulate import tabulate\n",
    "import scipy.optimize as optimize"
   ]
  },
  {
   "cell_type": "markdown",
   "metadata": {},
   "source": [
    "## 1. One dimensional methods"
   ]
  },
  {
   "cell_type": "markdown",
   "metadata": {},
   "source": [
    "### Defining the methods"
   ]
  },
  {
   "cell_type": "markdown",
   "metadata": {},
   "source": [
    "#### Exhaustive Search"
   ]
  },
  {
   "cell_type": "code",
   "execution_count": 159,
   "metadata": {},
   "outputs": [],
   "source": [
    "def min_exhaustive_search(fun,a,b,error):\n",
    "    n=round((b-a)/error)\n",
    "    min_fun=100000\n",
    "    min_x=0\n",
    "    for k in range (n+1):\n",
    "        x= a + k * (b-a)/n\n",
    "        fun_x=fun(x)\n",
    "        if (fun_x < min_fun): #searching for the minimum value of function\n",
    "            min_x=x\n",
    "            min_fun=fun_x\n",
    "    return min_x, abs(min_x-error),min_x +error, min_fun ,n\n",
    "    '''returning :\n",
    "    -value of x that yeilds min value of function \n",
    "    -minimum possible value of x that yeilds min value of function according to the accepted error \n",
    "    -maximum possible value of x that yeilds min value of function according to the accepted error \n",
    "    - the minimum found value of th fuction\n",
    "    - num of iteration = num of function calculations'''\n",
    "# num of f calculations = number of iteratioins = n"
   ]
  },
  {
   "cell_type": "markdown",
   "metadata": {},
   "source": [
    "#### Dichotomy"
   ]
  },
  {
   "cell_type": "code",
   "execution_count": 57,
   "metadata": {},
   "outputs": [],
   "source": [
    "# delta most be declared before calling the function. delta = random.uniform(0, error)\n",
    "def min_dichotomy (fun,a,b,error,delta,num_iter,num_fun):\n",
    "    num_iter+=1     #calculate the number of iterations\n",
    "    if (abs(a-b)<error):\n",
    "        return a,b,num_fun,num_iter\n",
    "    else:\n",
    "        x1= ((a+b-delta)/2)\n",
    "        x2=((a+b+delta)/2)\n",
    "        num_fun+=1           #calculate the number of function calculations\n",
    "        if(fun(x1)<fun(x2)):\n",
    "            b=x2\n",
    "        else:\n",
    "            a=x1\n",
    "        return min_dichotomy (fun,a,b,error,delta,num_fun,num_iter)\n",
    "\n",
    "# to call this function min_dichotomy(fun,a,b,error,delta,0,0)"
   ]
  },
  {
   "cell_type": "markdown",
   "metadata": {},
   "source": [
    "#### Golden section search"
   ]
  },
  {
   "cell_type": "code",
   "execution_count": 65,
   "metadata": {},
   "outputs": [],
   "source": [
    "def min_golden (fun,a,b,error,x1,x2,fun_value,label,num_iter,num_fun):\n",
    "    num_iter+=1                         #saving the number of total iteration of the function min_golden\n",
    "    if (abs(b-a)<error):\n",
    "        result=[a,b,num_fun,num_iter]\n",
    "        return result\n",
    "    else:\n",
    "        if (label=='both'):   # this case will be true when first call the function, then in next stages will be either of the two following (elif)\n",
    "            x1= (a+((3-math.sqrt(5))/2)*(b-a))\n",
    "            x2=(b+((math.sqrt(5)-3)/2)*(b-a))\n",
    "            fun_x1=fun(x1)\n",
    "            fun_x2=fun(x2)\n",
    "            num_fun+=2                  #saving the number of calculating of the function\n",
    "        elif (label=='right'):  # this case will be true when we are moving our calculations to the right\n",
    "            x2=(b+((math.sqrt(5)-3)/2)*(b-a))\n",
    "            fun_x1=fun_value\n",
    "            fun_x2=fun(x2)\n",
    "            num_fun+=1                  #saving the number of calculating of the function\n",
    "        elif (label=='left'):    # this case will be true when we are moving our calculations to the left\n",
    "            x1= (a+((3-math.sqrt(5))/2)*(b-a))\n",
    "            fun_x1=fun(x1)\n",
    "            fun_x2=fun_value\n",
    "            num_fun+=1                  #saving the number of calculating of the function\n",
    "        #After calculating x1,x2,fun_x1,fun_x2 in previous lines, \n",
    "        # next according to the condition we will decide to recall the function to the right or left range.\n",
    "        if(fun_x1<fun_x2):\n",
    "            b=x1\n",
    "            x2=x1\n",
    "            return min_golden (fun,a,b,error,x1,x2,fun_x1,'left',num_iter,num_fun)\n",
    "        else:\n",
    "            a=x1\n",
    "            x1=x2\n",
    "            return min_golden (fun,a,b,error,x1,x2,fun_x2,'right',num_iter,num_fun)\n",
    "# to call this function min_golden(fun,a,b,error,0,0,0,'both',0,0)\n"
   ]
  },
  {
   "cell_type": "markdown",
   "metadata": {},
   "source": [
    "### Defining the functions"
   ]
  },
  {
   "cell_type": "code",
   "execution_count": 59,
   "metadata": {},
   "outputs": [],
   "source": [
    "def cube_power(x):\n",
    "    return pow(x,3)"
   ]
  },
  {
   "cell_type": "code",
   "execution_count": 17,
   "metadata": {},
   "outputs": [],
   "source": [
    "def abs_function(x):\n",
    "    return (abs(x-0.2)) "
   ]
  },
  {
   "cell_type": "code",
   "execution_count": 18,
   "metadata": {},
   "outputs": [],
   "source": [
    "def sin_function(x):\n",
    "    return(x*math.sin(1/x))"
   ]
  },
  {
   "cell_type": "markdown",
   "metadata": {},
   "source": [
    "### Applying the methods for the functions"
   ]
  },
  {
   "cell_type": "code",
   "execution_count": 61,
   "metadata": {},
   "outputs": [
    {
     "name": "stdout",
     "output_type": "stream",
     "text": [
      "╒════════════════╤═══════╤═════════════╤════════════════════════╤════════════════════╕\n",
      "│                │   a   │      b      │  function claculation  │  num of iteration  │\n",
      "╞════════════════╪═══════╪═════════════╪════════════════════════╪════════════════════╡\n",
      "│ Exhaustive     │ 0.001 │    0.001    │          1000          │        1000        │\n",
      "├────────────────┼───────┼─────────────┼────────────────────────┼────────────────────┤\n",
      "│ Dichotomy      │   0   │ 0.000866204 │           13           │         12         │\n",
      "├────────────────┼───────┼─────────────┼────────────────────────┼────────────────────┤\n",
      "│ Golden section │   0   │ 0.000453104 │           9            │         9          │\n",
      "╘════════════════╧═══════╧═════════════╧════════════════════════╧════════════════════╛\n"
     ]
    }
   ],
   "source": [
    "#First function\n",
    "min_x, a,b, min_fun ,n =min_exhaustive_search(cube_power,0,1,0.001) # applying first method\n",
    "parameters=[]\n",
    "parameters.append([a,b, n ,n])                                   # saving the result from the first method\n",
    "delta = random.uniform(0, 0.001)                                    #declaring delta to be used in second method\n",
    "parameters.append(min_dichotomy(cube_power,0,1,0.001,delta,0,0))    #applying 2nd method and saving the result\n",
    "parameters.append(min_golden(cube_power,0,1,0.001,0,0,0,'both',0,0)) #applying the third method and saving the results\n",
    "# Printing a table with results\n",
    "rowIDs=['Exhaustive','Dichotomy','Golden section']\n",
    "print(tabulate(parameters, headers=['a','b','function claculation','num of iteration'],  tablefmt='fancy_grid',numalign ='center',showindex=rowIDs))"
   ]
  },
  {
   "cell_type": "code",
   "execution_count": null,
   "metadata": {},
   "outputs": [],
   "source": [
    "parameters_linear=[]               # defining array to save the results"
   ]
  },
  {
   "cell_type": "code",
   "execution_count": 62,
   "metadata": {},
   "outputs": [
    {
     "name": "stdout",
     "output_type": "stream",
     "text": [
      "╒════════════════╤══════════╤══════════╤════════════════════════╤════════════════════╕\n",
      "│                │    a     │    b     │  function claculation  │  num of iteration  │\n",
      "╞════════════════╪══════════╪══════════╪════════════════════════╪════════════════════╡\n",
      "│ Exhaustive     │  0.199   │  0.201   │          1000          │        1000        │\n",
      "├────────────────┼──────────┼──────────┼────────────────────────┼────────────────────┤\n",
      "│ Dichotomy      │ 0.199651 │ 0.200419 │           12           │         11         │\n",
      "├────────────────┼──────────┼──────────┼────────────────────────┼────────────────────┤\n",
      "│ Golden section │ 0.145165 │ 0.145898 │           24           │         24         │\n",
      "╘════════════════╧══════════╧══════════╧════════════════════════╧════════════════════╛\n"
     ]
    }
   ],
   "source": [
    "#Second function\n",
    "min_x, a,b, min_fun ,n =min_exhaustive_search(abs_function,0,1,0.001) # applying first method\n",
    "parameters_2=[]\n",
    "parameters_2.append([a,b, n ,n])                                   # saving the result from the first method\n",
    "delta = random.uniform(0, 0.001)                                    #declaring delta to be used in second method\n",
    "parameters_2.append(min_dichotomy(abs_function,0,1,0.001,delta,0,0))    #applying 2nd method and saving the result\n",
    "parameters_2.append(min_golden(abs_function,0,1,0.001,0,0,0,'both',0,0)) #applying the third method and saving the results\n",
    "# Printing a table with results\n",
    "rowIDs=['Exhaustive','Dichotomy','Golden section']\n",
    "print(tabulate(parameters_2, headers=['a','b','function claculation','num of iteration'],  tablefmt='fancy_grid',numalign ='center',showindex=rowIDs))"
   ]
  },
  {
   "cell_type": "code",
   "execution_count": 64,
   "metadata": {},
   "outputs": [
    {
     "name": "stdout",
     "output_type": "stream",
     "text": [
      "╒════════════════╤═══════════╤═══════════╤════════════════════════╤════════════════════╕\n",
      "│                │     a     │     b     │  function claculation  │  num of iteration  │\n",
      "╞════════════════╪═══════════╪═══════════╪════════════════════════╪════════════════════╡\n",
      "│ Exhaustive     │   0.222   │   0.224   │          990           │        990         │\n",
      "├────────────────┼───────────┼───────────┼────────────────────────┼────────────────────┤\n",
      "│ Dichotomy      │ 0.222134  │  0.22298  │           12           │         11         │\n",
      "├────────────────┼───────────┼───────────┼────────────────────────┼────────────────────┤\n",
      "│ Golden section │ 0.0173235 │ 0.0180493 │           15           │         15         │\n",
      "╘════════════════╧═══════════╧═══════════╧════════════════════════╧════════════════════╛\n"
     ]
    }
   ],
   "source": [
    "#third function\n",
    "min_x, a,b, min_fun ,n =min_exhaustive_search(sin_function,0.01,1,0.001) # applying first method\n",
    "parameters_3=[]\n",
    "parameters_3.append([a,b, n ,n])                                   # saving the result from the first method\n",
    "delta = random.uniform(0, 0.001)                                    #declaring delta to be used in second method\n",
    "parameters_3.append(min_dichotomy(sin_function,0.01,1,0.001,delta,0,0))    #applying 2nd method and saving the result\n",
    "parameters_3.append(min_golden(sin_function,0.01,1,0.001,0,0,0,'both',0,0)) #applying the third method and saving the results\n",
    "# Printing a table with results\n",
    "rowIDs=['Exhaustive','Dichotomy','Golden section']\n",
    "print(tabulate(parameters_3, headers=['a','b','function claculation','num of iteration'],  tablefmt='fancy_grid',numalign ='center',showindex=rowIDs))"
   ]
  },
  {
   "cell_type": "markdown",
   "metadata": {},
   "source": [
    "## 2. Multidimensional direct methods"
   ]
  },
  {
   "cell_type": "markdown",
   "metadata": {},
   "source": [
    "### Initials"
   ]
  },
  {
   "cell_type": "code",
   "execution_count": 149,
   "metadata": {},
   "outputs": [],
   "source": [
    "alpha = random.uniform(0, 1)    #random value\n",
    "beta = random.uniform(0, 1)     #random value\n",
    "size_of_array = 100\n",
    "min_ab=0\n",
    "max_ab=1\n",
    "error =0.001\n",
    "delta_normal=numpy.random.standard_normal(size=size_of_array)     #random samples samples from a standard Normal distribution (mean=0, stdev=1).   \n",
    "x=numpy.empty([size_of_array])    #Intializing the x vector\n",
    "y=numpy.empty([size_of_array])    #Intializing the y vector\n",
    "for k in range(size_of_array):    #According to the proposed formulas, calculating x and y\n",
    "    numpy.append(x,k/100)\n",
    "    numpy.append(y, alpha* x[k]+ beta+ delta_normal[k])"
   ]
  },
  {
   "cell_type": "markdown",
   "metadata": {},
   "source": [
    "### Implementation of the optimization methods"
   ]
  },
  {
   "cell_type": "markdown",
   "metadata": {},
   "source": [
    "#### Multi Dimensional Exhaustive"
   ]
  },
  {
   "cell_type": "code",
   "execution_count": 178,
   "metadata": {},
   "outputs": [],
   "source": [
    "def multi_exhaustive_search(fun,min,max,error):\n",
    "    n=round((max-min)/error)\n",
    "    min_fun=100000\n",
    "    num_fun=0\n",
    "    min_a=0\n",
    "    min_b=0\n",
    "    for k in range (n+1):\n",
    "        a= min + k * (max-min)/n\n",
    "        for j in range(n+1):\n",
    "            b=min*j+(max-min)/n\n",
    "            fun_x= fun([a,b])\n",
    "            num_fun+=1\n",
    "            if (fun_x < min_fun): #searching for the minimum value of function\n",
    "                min_a=a\n",
    "                min_b=b\n",
    "                min_fun=fun_x\n",
    "    return min_a,min_b, min_fun ,num_fun, n*n\n",
    "    '''returning :\n",
    "    -value of x that yeilds min value of function \n",
    "    -minimum possible value of x that yeilds min value of function according to the accepted error \n",
    "    -maximum possible value of x that yeilds min value of function according to the accepted error \n",
    "    - the minimum found value of th fuction\n",
    "    - num of iteration = num of function calculations'''\n",
    "# num of f calculations = number of iteratioins = n"
   ]
  },
  {
   "cell_type": "markdown",
   "metadata": {},
   "source": [
    "#### min_dichtomy is edited to pass 2 parameters for the multidimensional function optimization\n",
    "this function will be used at Gauss (coordinate descent) method to optomize the function for one variable at one iteration"
   ]
  },
  {
   "cell_type": "code",
   "execution_count": 153,
   "metadata": {},
   "outputs": [],
   "source": [
    "# delta most be declared before calling the function. delta = random.uniform(0, error)\n",
    "def min_dichotomy_multi (fun,a,b,error,delta,num_iter,num_fun,label,value):\n",
    "    num_iter+=1     #calculate the number of iterations\n",
    "    if (abs(a-b)<error):\n",
    "        return a,b,num_fun,num_iter\n",
    "    else:\n",
    "        x1= ((a+b-delta)/2)\n",
    "        x2=((a+b+delta)/2)\n",
    "        num_fun+=1           #calculate the number of function calculations\n",
    "        if(label==1):\n",
    "            fun_x1= fun([x1,value])\n",
    "            fun_x2= fun([x2,value])\n",
    "        else:\n",
    "            fun_x1= fun([value,x1])\n",
    "            fun_x2= fun([value,x2])\n",
    "        if(fun_x1<fun_x2):\n",
    "            b=x2\n",
    "        else:\n",
    "            a=x1\n",
    "        return min_dichotomy_multi (fun,a,b,error,delta,num_fun,num_iter,label,value)\n",
    "# to call this function min_dichotomy(fun,a,b,error,delta,0,0,label,value)"
   ]
  },
  {
   "cell_type": "markdown",
   "metadata": {},
   "source": [
    "#### Coordinat Gauss Method"
   ]
  },
  {
   "cell_type": "code",
   "execution_count": 148,
   "metadata": {},
   "outputs": [],
   "source": [
    "def coordinateGauss (fun,a,b,x_1,x_2,error,num_iter,num_fun):\n",
    "    if (num_iter%2==0):\n",
    "        num_iter+=1\n",
    "        delta = random.uniform(0, error)\n",
    "        min,max,fun_cal,_=min_dichotomy_multi(fun,a,b,error,delta,0,0,1,x_2)\n",
    "        num_fun+=fun_cal\n",
    "        x_11=(max-min)/2\n",
    "        if ((abs(x_11-x_1)<error) or (abs(fun([x_1,x_2])-fun([x_11,x_2]))<error)):\n",
    "            return x_11, x_2, fun([x_11,x_2]),num_fun,num_iter\n",
    "        else:\n",
    "            return coordinateGauss(fun,a,b,x_11,x_2,error,num_iter,num_fun)\n",
    "    else:\n",
    "        num_iter+=1\n",
    "        delta = random.uniform(0, error)\n",
    "        min,max,fun_cal,_=min_dichotomy_multi(fun,a,b,error,delta,0,0,2,x_1)\n",
    "        num_fun+=fun_cal\n",
    "        x_21=(max-min)/2\n",
    "        if  ( (abs(x_21-x_2)<error) or (abs(fun([x_1,x_2])-fun([x_1,x_21]))<error) ):\n",
    "            return x_1, x_21, fun([x_1,x_21]),num_fun,num_iter\n",
    "        else:\n",
    "            return coordinateGauss(fun,a,b,x_1,x_21,error,num_iter,num_fun)\n",
    "    \n"
   ]
  },
  {
   "cell_type": "markdown",
   "metadata": {},
   "source": [
    "### Defining Mean Suquare Error for each approximation"
   ]
  },
  {
   "cell_type": "code",
   "execution_count": 119,
   "metadata": {},
   "outputs": [],
   "source": [
    "# Mean Suare error with linear approximation\n",
    "def mean_square_linear(params):\n",
    "    a,b=params\n",
    "    return numpy.sum(pow(numpy.add(a*x+b,-y),2))"
   ]
  },
  {
   "cell_type": "code",
   "execution_count": 120,
   "metadata": {},
   "outputs": [],
   "source": [
    "# Mean Suare error with rational approximation\n",
    "def mean_square_rational(params):\n",
    "    a,b=params\n",
    "    return numpy.sum(pow(numpy.add(a/(a+b*x),-y),2))"
   ]
  },
  {
   "cell_type": "markdown",
   "metadata": {},
   "source": [
    "### Applying the three methods"
   ]
  },
  {
   "cell_type": "markdown",
   "metadata": {},
   "source": [
    "#### linear"
   ]
  },
  {
   "cell_type": "code",
   "execution_count": 179,
   "metadata": {},
   "outputs": [],
   "source": [
    "parameters_linear=[]               # defining array to save the results"
   ]
  },
  {
   "cell_type": "code",
   "execution_count": 180,
   "metadata": {},
   "outputs": [],
   "source": [
    "# multi exhaustive_search\n",
    "parameters_ES= multi_exhaustive_search(mean_square_linear,min_ab,max_ab,error)\n",
    "parameters_linear.append([parameters_ES[0],parameters_ES[1],parameters_ES[2],parameters_ES[3],parameters_ES[4]])"
   ]
  },
  {
   "cell_type": "code",
   "execution_count": 181,
   "metadata": {},
   "outputs": [],
   "source": [
    "# Coordinate Gauss\n",
    "initial_guess =numpy.random.random_sample((2,))\n",
    "parameters_CG=coordinateGauss (mean_square_linear,min_ab,max_ab,initial_guess[0],initial_guess[1],error,0,0)\n",
    "parameters_linear.append([parameters_CG[0],parameters_CG[1],parameters_CG[2],parameters_CG[3],parameters_CG[4]])"
   ]
  },
  {
   "cell_type": "code",
   "execution_count": 182,
   "metadata": {},
   "outputs": [
    {
     "name": "stdout",
     "output_type": "stream",
     "text": [
      "Optimization terminated successfully.\n",
      "         Current function value: 567.885494\n",
      "         Iterations: 20\n",
      "         Function evaluations: 38\n"
     ]
    },
    {
     "data": {
      "text/plain": [
       " final_simplex: (array([[0.8883299 , 0.35603448],\n",
       "       [0.88761611, 0.35575094],\n",
       "       [0.88829435, 0.35600387]]), array([567.88549449, 567.885506  , 567.8855338 ]))\n",
       "           fun: 567.8854944863124\n",
       "       message: 'Optimization terminated successfully.'\n",
       "          nfev: 38\n",
       "           nit: 20\n",
       "        status: 0\n",
       "       success: True\n",
       "             x: array([0.8883299 , 0.35603448])"
      ]
     },
     "execution_count": 182,
     "metadata": {},
     "output_type": "execute_result"
    }
   ],
   "source": [
    "# Nelder-Mead\n",
    "initial_guess =numpy.random.random_sample((2,))\n",
    "result_rational_NM = optimize.minimize(mean_square_rational, initial_guess,method='nelder-mead',options={'disp': True, 'xtol':error,'ftol':error})\n",
    "parameters_rational.append([result_rational_NM.x[0],result_rational_NM.x[1],result_rational_NM.fun,result_rational_NM.nfev,result_rational_NM.nit])\n",
    "result_rational_NM"
   ]
  },
  {
   "cell_type": "code",
   "execution_count": 185,
   "metadata": {},
   "outputs": [
    {
     "name": "stdout",
     "output_type": "stream",
     "text": [
      "╒═════════════╤═════════════╤═════════════╤══════════════════╤════════════════════════╤════════════════════╕\n",
      "│             │      a      │      b      │  function value  │  function claculation  │  num of iteration  │\n",
      "╞═════════════╪═════════════╪═════════════╪══════════════════╪════════════════════════╪════════════════════╡\n",
      "│ Exhaustive  │    0.115    │    0.001    │     103.096      │        1002001         │      1000000       │\n",
      "├─────────────┼─────────────┼─────────────┼──────────────────┼────────────────────────┼────────────────────┤\n",
      "│ Gauss       │ 0.000468745 │ 0.000498744 │     104.978      │           42           │         3          │\n",
      "├─────────────┼─────────────┼─────────────┼──────────────────┼────────────────────────┼────────────────────┤\n",
      "│ Nelder-Mead │  0.111094   │ -0.0444893  │     102.888      │           55           │         28         │\n",
      "╘═════════════╧═════════════╧═════════════╧══════════════════╧════════════════════════╧════════════════════╛\n"
     ]
    }
   ],
   "source": [
    "# Printing a table with results\n",
    "rowIDs=['Exhaustive','Gauss ','Nelder-Mead']\n",
    "print(tabulate(parameters_linear, headers=['a','b','function value','function claculation','num of iteration'],  tablefmt='fancy_grid',numalign ='center',showindex=rowIDs))"
   ]
  },
  {
   "cell_type": "code",
   "execution_count": 207,
   "metadata": {},
   "outputs": [
    {
     "data": {
      "text/plain": [
       "Text(0, 0.5, 'y')"
      ]
     },
     "execution_count": 207,
     "metadata": {},
     "output_type": "execute_result"
    },
    {
     "data": {
      "image/png": "[encoded data removed]",
      "text/plain": [
       "<Figure size 720x360 with 1 Axes>"
      ]
     },
     "metadata": {
      "needs_background": "light"
     },
     "output_type": "display_data"
    }
   ],
   "source": [
    "#x1 = numpy.linspace(1, min(x),max(x), endpoint=True)\n",
    "y1 = parameters_linear[0][0] *x + parameters_linear[0][1]    \n",
    "y2= parameters_linear[1][0] *x + parameters_linear[1][1] \n",
    "y3=parameters_linear[2][0] *x + parameters_linear[2][1] \n",
    "plt.figure(figsize=(10,5))\n",
    "plt.title(\"linear\")\n",
    "#plt.plot(x, y, 'k-')\n",
    "plt.plot(x, y1, 'p-')\n",
    "plt.plot(x, y2, 'y-')\n",
    "plt.plot(x, y3, 'b-')\n",
    "plt.legend([\"Exhaustive\", \"Gauss\",\"Nelder-Mead\"])\n",
    "plt.xlabel(\"x\")\n",
    "plt.ylabel(\"y\")"
   ]
  },
  {
   "cell_type": "markdown",
   "metadata": {},
   "source": [
    "#### Rational"
   ]
  },
  {
   "cell_type": "code",
   "execution_count": 200,
   "metadata": {},
   "outputs": [],
   "source": [
    "parameters_rational=[]               # defining array to save the results"
   ]
  },
  {
   "cell_type": "code",
   "execution_count": 201,
   "metadata": {},
   "outputs": [],
   "source": [
    "# multi exhaustive_search\n",
    "parameters_ESR= multi_exhaustive_search(mean_square_rational,min_ab,max_ab,error)\n",
    "parameters_rational.append([parameters_ESR[0],parameters_ESR[1],parameters_ESR[2],parameters_ESR[3],parameters_ESR[4]])"
   ]
  },
  {
   "cell_type": "code",
   "execution_count": 202,
   "metadata": {},
   "outputs": [],
   "source": [
    "# Coordinate Gauss\n",
    "initial_guess =numpy.random.random_sample((2,))\n",
    "parameters_CGR=coordinateGauss (mean_square_rational,min_ab,max_ab,initial_guess[0],initial_guess[1],error,0,0)\n",
    "parameters_rational.append([parameters_CGR[0],parameters_CGR[1],parameters_CGR[2],parameters_CGR[3],parameters_CGR[4]])"
   ]
  },
  {
   "cell_type": "code",
   "execution_count": 203,
   "metadata": {},
   "outputs": [
    {
     "name": "stdout",
     "output_type": "stream",
     "text": [
      "Optimization terminated successfully.\n",
      "         Current function value: 1412.824558\n",
      "         Iterations: 18\n",
      "         Function evaluations: 38\n"
     ]
    },
    {
     "data": {
      "text/plain": [
       " final_simplex: (array([[0.69866922, 0.79549051],\n",
       "       [0.69856714, 0.79534395],\n",
       "       [0.6988879 , 0.79570516]]), array([1412.82455781, 1412.8249258 , 1412.82515618]))\n",
       "           fun: 1412.8245578126825\n",
       "       message: 'Optimization terminated successfully.'\n",
       "          nfev: 38\n",
       "           nit: 18\n",
       "        status: 0\n",
       "       success: True\n",
       "             x: array([0.69866922, 0.79549051])"
      ]
     },
     "execution_count": 203,
     "metadata": {},
     "output_type": "execute_result"
    }
   ],
   "source": [
    "# Nelder-Mead\n",
    "initial_guess =numpy.random.random_sample((2,))\n",
    "result_rational_NM = optimize.minimize(mean_square_rational, initial_guess,method='nelder-mead',options={'disp': True, 'xtol':error,'ftol':error})\n",
    "parameters_rational.append([result_rational_NM.x[0],result_rational_NM.x[1],result_rational_NM.fun,result_rational_NM.nfev,result_rational_NM.nit])\n",
    "result_rational_NM"
   ]
  },
  {
   "cell_type": "code",
   "execution_count": 204,
   "metadata": {},
   "outputs": [
    {
     "name": "stdout",
     "output_type": "stream",
     "text": [
      "╒═════════════╤═════════════╤═════════════╤══════════════════╤════════════════════════╤════════════════════╕\n",
      "│             │      a      │      b      │  function value  │  function claculation  │  num of iteration  │\n",
      "╞═════════════╪═════════════╪═════════════╪══════════════════╪════════════════════════╪════════════════════╡\n",
      "│ Exhaustive  │      0      │    0.001    │     104.988      │        1002001         │      1000000       │\n",
      "├─────────────┼─────────────┼─────────────┼──────────────────┼────────────────────────┼────────────────────┤\n",
      "│ Gauss       │ 0.000456455 │ 0.000373876 │     40495.4      │           35           │         3          │\n",
      "├─────────────┼─────────────┼─────────────┼──────────────────┼────────────────────────┼────────────────────┤\n",
      "│ Nelder-Mead │  0.698669   │  0.795491   │     1412.82      │           38           │         18         │\n",
      "╘═════════════╧═════════════╧═════════════╧══════════════════╧════════════════════════╧════════════════════╛\n"
     ]
    }
   ],
   "source": [
    "# Printing a table with results\n",
    "rowIDs=['Exhaustive','Gauss ','Nelder-Mead']\n",
    "print(tabulate(parameters_rational, headers=['a','b','function value','function claculation','num of iteration'],  tablefmt='fancy_grid',numalign ='center',showindex=rowIDs))"
   ]
  },
  {
   "cell_type": "code",
   "execution_count": 213,
   "metadata": {},
   "outputs": [
    {
     "data": {
      "text/plain": [
       "Text(0, 0.5, 'y')"
      ]
     },
     "execution_count": 213,
     "metadata": {},
     "output_type": "execute_result"
    },
    {
     "data": {
      "image/png": "[encoded data removed]",
      "text/plain": [
       "<Figure size 720x360 with 1 Axes>"
      ]
     },
     "metadata": {
      "needs_background": "light"
     },
     "output_type": "display_data"
    }
   ],
   "source": [
    "#x1 = numpy.linspace(1, min(x),max(x), endpoint=True)\n",
    "y1 = parameters_rational[0][0] /(1+ x* parameters_rational[0][1] )   \n",
    "y2= parameters_rational[1][0] / (1+ x* parameters_rational[1][1] )\n",
    "y3=parameters_rational[2][0] /(1 + x* parameters_rational[2][1] )\n",
    "plt.figure(figsize=(10,5))\n",
    "plt.title(\"rational\")\n",
    "#plt.plot(x, y, 'k-')\n",
    "plt.plot(x, y1, 'p-')\n",
    "plt.plot(x, y2, 'y-')\n",
    "#plt.plot(x, y3, 'b')\n",
    "plt.legend([\"Exhaustive\", \"Gauss\"])\n",
    "#plt.legend([\"Y\",\"Exhaustive\", \"Gauss\",\"Nelder-Mead\"])\n",
    "plt.xlabel(\"x\")\n",
    "plt.ylabel(\"y\")"
   ]
  }
 ],
 "metadata": {
  "interpreter": {
   "hash": "57baa5815c940fdaff4d14510622de9616cae602444507ba5d0b6727c008cbd6"
  },
  "kernelspec": {
   "display_name": "Python 3.7.8 64-bit",
   "language": "python",
   "name": "python3"
  },
  "language_info": {
   "codemirror_mode": {
    "name": "ipython",
    "version": 3
   },
   "file_extension": ".py",
   "mimetype": "text/x-python",
   "name": "python",
   "nbconvert_exporter": "python",
   "pygments_lexer": "ipython3",
   "version": "3.7.8"
  },
  "orig_nbformat": 4
 },
 "nbformat": 4,
 "nbformat_minor": 2
}
