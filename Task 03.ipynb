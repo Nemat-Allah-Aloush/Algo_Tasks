{
 "cells": [
  {
   "cell_type": "code",
   "execution_count": 11,
   "metadata": {},
   "outputs": [],
   "source": [
    "import random\n",
    "import numpy\n",
    "import matplotlib.pyplot as plt\n",
    "from tabulate import tabulate\n",
    "import scipy.optimize as optimize\n",
    "from decimal import Decimal"
   ]
  },
  {
   "cell_type": "markdown",
   "metadata": {},
   "source": [
    "### Initializing"
   ]
  },
  {
   "cell_type": "code",
   "execution_count": 12,
   "metadata": {},
   "outputs": [],
   "source": [
    "alpha = random.uniform(0, 1)    #random value\n",
    "beta = random.uniform(0, 1)     #random value\n",
    "size_of_array = 100\n",
    "min_ab=0\n",
    "max_ab=1\n",
    "error =0.001\n",
    "delta_normal=numpy.random.standard_normal(size=size_of_array)     #random samples samples from a standard Normal distribution (mean=0, stdev=1).   \n",
    "x=[]   #Intializing the x vector\n",
    "y=[]   #Intializing the y vector\n",
    "y_clear =[] #Intializing the clear y vector\n",
    "for k in range(size_of_array):    #According to the proposed formulas, calculating x and y with noise (y), ckear y without noise\n",
    "    x.append(k/100)\n",
    "    y.append(alpha* x[k]+ beta+ delta_normal[k])\n",
    "    y_clear.append(alpha* x[k]+ beta)\n",
    "x=numpy.array(x)        #transforming to numpy.array for future uses.\n",
    "y=numpy.array(y)\n",
    "y_clear=numpy.array(y_clear)"
   ]
  },
  {
   "cell_type": "markdown",
   "metadata": {},
   "source": [
    "### Defining Gradient Descent"
   ]
  },
  {
   "cell_type": "code",
   "execution_count": 14,
   "metadata": {},
   "outputs": [],
   "source": [
    "def gradient_descent(x, y, func, eps):\n",
    "    a, b = 0, 0\n",
    "    lr = 1e-2\n",
    "    iters = 0\n",
    "    fcalls = 0\n",
    "    while True:\n",
    "        prev_a, prev_b = a, b\n",
    "        if func == 'linear':\n",
    "            a = a - lr * (-2) / len(x) * sum(x * (y - a * x - b))\n",
    "            b = b - lr * (-2) / len(x) * sum(y - a * x - b)\n",
    "        elif func == 'rational':\n",
    "            a = a - lr * (-2/len(x)) * sum((-a + b * x * y + y) / (b*x + 1)**2)\n",
    "            b = b - lr * (-2)/len(x) * sum(a * x * (a - y * (b*x + 1)) / (b * x + 1) ** 3)\n",
    "        iters += 1\n",
    "        fcalls += 1\n",
    "        if ((a - prev_a) ** 2 + (b - prev_b) ** 2) ** 0.5 < eps:\n",
    "            break\n",
    "\n",
    "    return a, b, iters, fcalls"
   ]
  },
  {
   "cell_type": "markdown",
   "metadata": {},
   "source": [
    "### Defining Mean Suquare Error for each approximation"
   ]
  },
  {
   "cell_type": "code",
   "execution_count": 15,
   "metadata": {},
   "outputs": [],
   "source": [
    "# Mean Suare error with linear approximation\n",
    "def MLS_linear(params, x,y):\n",
    "    a, b = params\n",
    "    return sum((y - (a*x+b))**2)"
   ]
  },
  {
   "cell_type": "code",
   "execution_count": 16,
   "metadata": {},
   "outputs": [],
   "source": [
    "# Mean Suare error with rational approximation\n",
    "def MLS_rational(params, x,y):\n",
    "    a, b = params\n",
    "    return sum((y - (a/ (1+b*x)))**2)"
   ]
  },
  {
   "cell_type": "markdown",
   "metadata": {},
   "source": [
    "### Applying the four methods"
   ]
  },
  {
   "cell_type": "markdown",
   "metadata": {},
   "source": [
    "#### linear"
   ]
  },
  {
   "cell_type": "code",
   "execution_count": 21,
   "metadata": {},
   "outputs": [],
   "source": [
    "parameters_linear=[] # array to save the results"
   ]
  },
  {
   "cell_type": "markdown",
   "metadata": {},
   "source": []
  },
  {
   "cell_type": "code",
   "execution_count": 22,
   "metadata": {},
   "outputs": [],
   "source": [
    "# optimization through the four methods\n",
    "res_linear_grad_des = gradient_descent(x, y, 'linear', error)\n",
    "res_linear_conj_grad = optimize.minimize(MLS_linear, [0, 0], args=(x,y), tol=error, method='CG')\n",
    "res_linear_newton = optimize.minimize(MLS_linear, [0, 0], args=(x,y), tol=error, method='BFGS')\n",
    "#res_linear_lm = optimize.least_squares(MLS_linear, [0, 0], args=(x,y), xtol=error, method='lm')"
   ]
  },
  {
   "cell_type": "code",
   "execution_count": 23,
   "metadata": {},
   "outputs": [],
   "source": [
    "#saving the results of the optimixation for each method in the defined array\n",
    "parameters_linear.append([res_linear_grad_des[0],res_linear_grad_des[1],0,res_linear_grad_des[3],res_linear_grad_des[2]])\n",
    "parameters_linear.append([res_linear_conj_grad.x[0],res_linear_conj_grad.x[1],res_linear_conj_grad.fun,res_linear_conj_grad.nfev,res_linear_conj_grad.nit])\n",
    "parameters_linear.append([res_linear_newton.x[0],res_linear_newton.x[1],res_linear_newton.fun,res_linear_newton.nfev,res_linear_newton.nit])\n",
    "#parameters_linear.append([res_linear_lm.x[0],res_linear_lm.x[1],res_linear_lm.fun,res_linear_lm.nfev,res_linear_lm.nit])"
   ]
  },
  {
   "cell_type": "code",
   "execution_count": 24,
   "metadata": {},
   "outputs": [],
   "source": [
    "#calculating a,b precision for each method\n",
    "parameters_linear[0].append(abs(alpha-parameters_linear[0][0]))\n",
    "parameters_linear[0].append(abs(beta-parameters_linear[0][1]))\n",
    "parameters_linear[1].append(abs(alpha-parameters_linear[1][0]))\n",
    "parameters_linear[1].append(abs(beta-parameters_linear[1][1]))\n",
    "parameters_linear[2].append(abs(alpha-parameters_linear[2][0]))\n",
    "parameters_linear[2].append(abs(beta-parameters_linear[2][1]))"
   ]
  },
  {
   "cell_type": "code",
   "execution_count": 25,
   "metadata": {},
   "outputs": [
    {
     "name": "stdout",
     "output_type": "stream",
     "text": [
      "                        a         b       function value    function claculation    num of iteration    precesion |a-alpha|    precesion |b-beta|\n",
      "-------------------  --------  --------  ----------------  ----------------------  ------------------  ---------------------  --------------------\n",
      "Non-linear CGD       0.462239  0.914828         0                   131                   131                0.500907               0.193727\n",
      "Newton’s             0.376029  1.00325       100.671                 18                    3                 0.587117               0.282151\n",
      "Levenberg-Marquardt  0.376029  1.00325       100.671                 18                    4                 0.587116               0.282151\n"
     ]
    }
   ],
   "source": [
    "# Printing a table with results\n",
    "rowIDs=['Non-linear CGD','Newton’s ','Levenberg-Marquardt '] # 'Gradient Descent'\n",
    "print(tabulate(parameters_linear, headers=['a','b','function value','function claculation','num of iteration','precesion |a-alpha|','precesion |b-beta|'],numalign ='center',showindex=rowIDs))"
   ]
  },
  {
   "cell_type": "code",
   "execution_count": 35,
   "metadata": {},
   "outputs": [
    {
     "data": {
      "text/plain": [
       "      fun: 100.670957824041\n",
       " hess_inv: array([[ 0.0600063 , -0.02970305],\n",
       "       [-0.02970305,  0.01970297]])\n",
       "      jac: array([1.04904175e-05, 3.81469727e-06])\n",
       "  message: 'Optimization terminated successfully.'\n",
       "     nfev: 18\n",
       "      nit: 4\n",
       "     njev: 6\n",
       "   status: 0\n",
       "  success: True\n",
       "        x: array([0.37602946, 1.00325274])"
      ]
     },
     "execution_count": 35,
     "metadata": {},
     "output_type": "execute_result"
    }
   ],
   "source": [
    "res_linear_newton\n"
   ]
  },
  {
   "cell_type": "code",
   "execution_count": 37,
   "metadata": {},
   "outputs": [
    {
     "data": {
      "image/png": "[encoded data removed]",
      "text/plain": [
       "<Figure size 864x576 with 1 Axes>"
      ]
     },
     "metadata": {
      "needs_background": "light"
     },
     "output_type": "display_data"
    }
   ],
   "source": [
    "#ploting original y data (with no nise), y data with noise, and each of the three optimization methods\n",
    "plt.figure(figsize=(12, 8))\n",
    "plt.plot(x, y_clear)\n",
    "plt.plot(x, numpy.array(res_linear_grad_des[0]*x+res_linear_grad_des[1]))\n",
    "plt.plot(x, numpy.array(res_linear_conj_grad.x[0]*x+res_linear_conj_grad.x[1]))\n",
    "plt.plot(x, numpy.array(res_linear_newton.x[0]*x+res_linear_newton.x[1]))\n",
    "plt.scatter(x, y)\n",
    "plt.legend([\"Original Data\",\"Exhaustive\", \"Gauss\",\"Nelder-Mead\",\"Noisy data\"])\n",
    "plt.title(\"Linear Approximation\")\n",
    "plt.xlabel(\"x\")\n",
    "plt.ylabel(\"y\")\n",
    "plt.show()"
   ]
  },
  {
   "cell_type": "markdown",
   "metadata": {},
   "source": [
    "#### rational"
   ]
  },
  {
   "cell_type": "code",
   "execution_count": 26,
   "metadata": {},
   "outputs": [],
   "source": [
    "parameters_rational=[] # array to save the results"
   ]
  },
  {
   "cell_type": "code",
   "execution_count": 29,
   "metadata": {},
   "outputs": [],
   "source": [
    "# optimization through the four methods\n",
    "res_rational_grad_des = gradient_descent(x, y, 'rational', error)\n",
    "res_rational_conj_grad = optimize.minimize(MLS_rational, [0, 0], args=(x,y), tol=error, method='CG')\n",
    "res_rational_newton = optimize.minimize(MLS_rational, [0, 0], args=(x,y), tol=error, method='BFGS')\n",
    "#res_rational_lm = optimize.least_squares(MLS_rational, [0, 0], args=(x,y), xtol=error, method='lm')"
   ]
  },
  {
   "cell_type": "code",
   "execution_count": 30,
   "metadata": {},
   "outputs": [],
   "source": [
    "#saving the results of the optimixation for each method in the defined array\n",
    "parameters_rational.append([res_rational_grad_des[0],res_rational_grad_des[1],0,res_rational_grad_des[3],res_rational_grad_des[2]])\n",
    "parameters_rational.append([res_rational_conj_grad.x[0],res_rational_conj_grad.x[1],res_rational_conj_grad.fun,res_rational_conj_grad.nfev,res_rational_conj_grad.nit])\n",
    "parameters_rational.append([res_rational_newton.x[0],res_rational_newton.x[1],res_rational_newton.fun,res_rational_newton.nfev,res_rational_newton.nit])\n",
    "#parameters_rational.append([res_rational_lm.x[0],res_rational_lm.x[1],res_rational_lm.fun,res_rational_lm.nfev,res_rational_lm.nit])"
   ]
  },
  {
   "cell_type": "code",
   "execution_count": 31,
   "metadata": {},
   "outputs": [
    {
     "name": "stdout",
     "output_type": "stream",
     "text": [
      "a                       b       function value    function claculation    num of iteration    precesion |a-alpha|\n",
      "-------------------  --------  ----------------  ----------------------  ------------------  ---------------------\n",
      "Non-rational CGD     0.97647      -0.299748                0                    115                   115\n",
      "Newton’s             0.985901     -0.322647             100.385                  65                    8\n",
      "Levenberg-Marquardt  0.985908     -0.322638             100.385                  39                    7\n"
     ]
    }
   ],
   "source": [
    "# Printing a table with results\n",
    "rowIDs=['Non-rational CGD','Newton’s ','Levenberg-Marquardt '] # 'Gradient Descent'\n",
    "print(tabulate(parameters_rational, headers=['a','b','function value','function claculation','num of iteration','precesion |a-alpha|','precesion |b-beta|'],numalign ='center',showindex=rowIDs))"
   ]
  },
  {
   "cell_type": "code",
   "execution_count": 42,
   "metadata": {},
   "outputs": [
    {
     "data": {
      "image/png": "[encoded data removed]",
      "text/plain": [
       "<Figure size 864x576 with 1 Axes>"
      ]
     },
     "metadata": {
      "needs_background": "light"
     },
     "output_type": "display_data"
    }
   ],
   "source": [
    "#ploting original y data (with no nise), y data with noise, and each of the three optimization methods\n",
    "plt.figure(figsize=(12, 8))\n",
    "plt.plot(x, y_clear)\n",
    "plt.plot(x, numpy.array(res_rational_grad_des[0]*x+res_rational_grad_des[1]))\n",
    "plt.plot(x, numpy.array(res_rational_conj_grad.x[0]*x+res_rational_conj_grad.x[1]))\n",
    "plt.plot(x, numpy.array(res_rational_newton.x[0]*x+res_rational_newton.x[1]))\n",
    "plt.scatter(x, y)\n",
    "plt.legend(['Non-rational CGD','Newton’s ','Levenberg-Marquardt '] ) # Gradient Descent\n",
    "plt.xlabel(\"x\")\n",
    "plt.ylabel(\"y\")\n",
    "plt.show()"
   ]
  },
  {
   "cell_type": "code",
   "execution_count": null,
   "metadata": {},
   "outputs": [],
   "source": []
  }
 ],
 "metadata": {
  "interpreter": {
   "hash": "57baa5815c940fdaff4d14510622de9616cae602444507ba5d0b6727c008cbd6"
  },
  "kernelspec": {
   "display_name": "Python 3.7.8 64-bit",
   "language": "python",
   "name": "python3"
  },
  "language_info": {
   "codemirror_mode": {
    "name": "ipython",
    "version": 3
   },
   "file_extension": ".py",
   "mimetype": "text/x-python",
   "name": "python",
   "nbconvert_exporter": "python",
   "pygments_lexer": "ipython3",
   "version": "3.7.8"
  },
  "orig_nbformat": 4
 },
 "nbformat": 4,
 "nbformat_minor": 2
}
